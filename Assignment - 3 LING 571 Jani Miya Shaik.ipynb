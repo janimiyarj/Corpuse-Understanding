{
 "cells": [
  {
   "cell_type": "markdown",
   "id": "77629ca0-4f11-4279-8fc3-aa2b762e626f",
   "metadata": {},
   "source": [
    "# Keyword analysis\n"
   ]
  },
  {
   "cell_type": "code",
   "execution_count": 45,
   "id": "69faf7cd-ac45-4136-8dd8-e174d357c3c6",
   "metadata": {},
   "outputs": [],
   "source": [
    "from collections import Counter"
   ]
  },
  {
   "cell_type": "markdown",
   "id": "6739c91b-dcda-45ca-8e1c-c529b4982086",
   "metadata": {},
   "source": [
    "Read target corpus and reference corpus"
   ]
  },
  {
   "cell_type": "code",
   "execution_count": 3,
   "id": "86177f63-84b6-4077-a52d-48575d0fa7bb",
   "metadata": {},
   "outputs": [],
   "source": [
    "brown_c = open('brown-c.txt').read().split()\n",
    "brown_r = open('brown-r.txt').read().split()\n"
   ]
  },
  {
   "cell_type": "code",
   "execution_count": 4,
   "id": "92296026-350d-4c9a-b6be-a927616723da",
   "metadata": {},
   "outputs": [
    {
     "data": {
      "text/plain": [
       "(39399, 1121793)"
      ]
     },
     "execution_count": 4,
     "metadata": {},
     "output_type": "execute_result"
    }
   ],
   "source": [
    "len(brown_c), len(brown_r)"
   ]
  },
  {
   "cell_type": "code",
   "execution_count": 5,
   "id": "1afa1d91-6a2a-4589-9e52-f5f4b8ea6b71",
   "metadata": {},
   "outputs": [
    {
     "data": {
      "text/plain": [
       "['Dan',\n",
       " 'Morgan',\n",
       " 'told',\n",
       " 'himself',\n",
       " 'he',\n",
       " 'would',\n",
       " 'forget',\n",
       " 'Ann',\n",
       " 'Turner',\n",
       " '.']"
      ]
     },
     "execution_count": 5,
     "metadata": {},
     "output_type": "execute_result"
    }
   ],
   "source": [
    "brown_r[:10]"
   ]
  },
  {
   "cell_type": "markdown",
   "id": "21bdc2e9-2131-4a53-ac88-b14b66a2349a",
   "metadata": {},
   "source": [
    "Find most frequent words"
   ]
  },
  {
   "cell_type": "code",
   "execution_count": 7,
   "id": "5b713f51-48ff-42a0-965e-8b94138f8f0f",
   "metadata": {},
   "outputs": [],
   "source": [
    "f_c = Counter(brown_c)\n",
    "f_r = Counter(brown_r)"
   ]
  },
  {
   "cell_type": "code",
   "execution_count": 8,
   "id": "4b202fe8-71d4-4bdb-a10f-93f7e6d8b2ed",
   "metadata": {},
   "outputs": [
    {
     "data": {
      "text/plain": [
       "[('the', 2295),\n",
       " (',', 1913),\n",
       " ('of', 1494),\n",
       " ('.', 1382),\n",
       " ('and', 921),\n",
       " ('to', 882),\n",
       " ('in', 724),\n",
       " ('a', 655),\n",
       " ('is', 533),\n",
       " ('that', 475)]"
      ]
     },
     "execution_count": 8,
     "metadata": {},
     "output_type": "execute_result"
    }
   ],
   "source": [
    "f_c.most_common(10)"
   ]
  },
  {
   "cell_type": "code",
   "execution_count": 9,
   "id": "f6dbb282-97fb-4b75-bb35-fc6f38659241",
   "metadata": {},
   "outputs": [
    {
     "data": {
      "text/plain": [
       "[('the', 60418),\n",
       " (',', 56421),\n",
       " ('.', 47964),\n",
       " ('of', 34586),\n",
       " ('and', 26994),\n",
       " ('to', 24850),\n",
       " ('a', 21226),\n",
       " ('in', 18812),\n",
       " ('that', 9762),\n",
       " ('was', 9563)]"
      ]
     },
     "execution_count": 9,
     "metadata": {},
     "output_type": "execute_result"
    }
   ],
   "source": [
    "f_r.most_common(10)"
   ]
  },
  {
   "cell_type": "markdown",
   "id": "d4255aa9-04b9-45ce-ada4-e8a1e01d772b",
   "metadata": {},
   "source": [
    "Normalize text"
   ]
  },
  {
   "cell_type": "code",
   "execution_count": 10,
   "id": "967e1dab-0f6b-464b-a99d-3c548d535ee2",
   "metadata": {},
   "outputs": [],
   "source": [
    "brown_c = [ word.lower() for word in brown_c if word.isalpha() ]\n",
    "brown_r = [ word.lower() for word in brown_r if word.isalpha() ]"
   ]
  },
  {
   "cell_type": "code",
   "execution_count": 11,
   "id": "ab13b1de-021e-480d-a87b-dc019ca2d416",
   "metadata": {},
   "outputs": [
    {
     "data": {
      "text/plain": [
       "['dan',\n",
       " 'morgan',\n",
       " 'told',\n",
       " 'himself',\n",
       " 'he',\n",
       " 'would',\n",
       " 'forget',\n",
       " 'ann',\n",
       " 'turner',\n",
       " 'he']"
      ]
     },
     "execution_count": 11,
     "metadata": {},
     "output_type": "execute_result"
    }
   ],
   "source": [
    "brown_r[:10]"
   ]
  },
  {
   "cell_type": "code",
   "execution_count": 12,
   "id": "3afccbff-7c55-40c6-af4d-0674bb6ab07a",
   "metadata": {},
   "outputs": [],
   "source": [
    "f_c = Counter(brown_c)\n",
    "f_r = Counter(brown_r)"
   ]
  },
  {
   "cell_type": "code",
   "execution_count": 13,
   "id": "9fe379ac-4e83-4243-9efb-975b80e44eb2",
   "metadata": {},
   "outputs": [
    {
     "data": {
      "text/plain": [
       "[('the', 2480),\n",
       " ('of', 1505),\n",
       " ('and', 962),\n",
       " ('to', 904),\n",
       " ('in', 774),\n",
       " ('a', 694),\n",
       " ('is', 537),\n",
       " ('that', 492),\n",
       " ('it', 337),\n",
       " ('for', 315)]"
      ]
     },
     "execution_count": 13,
     "metadata": {},
     "output_type": "execute_result"
    }
   ],
   "source": [
    "f_c.most_common(10)"
   ]
  },
  {
   "cell_type": "code",
   "execution_count": 14,
   "id": "001085bf-d640-4744-809b-49a6d3b82bca",
   "metadata": {},
   "outputs": [
    {
     "data": {
      "text/plain": [
       "[('the', 67491),\n",
       " ('of', 34907),\n",
       " ('and', 27891),\n",
       " ('to', 25254),\n",
       " ('a', 22501),\n",
       " ('in', 20563),\n",
       " ('that', 10102),\n",
       " ('was', 9601),\n",
       " ('is', 9572),\n",
       " ('he', 9342)]"
      ]
     },
     "execution_count": 14,
     "metadata": {},
     "output_type": "execute_result"
    }
   ],
   "source": [
    "f_r.most_common(10)"
   ]
  },
  {
   "cell_type": "markdown",
   "id": "00ab1016-e679-4473-ae92-922caf85be84",
   "metadata": {},
   "source": [
    "simple maths parameter (Brezina p. 85)"
   ]
  },
  {
   "cell_type": "code",
   "execution_count": 16,
   "id": "3e883062-5c3c-4ee8-99a9-2f363dc81199",
   "metadata": {},
   "outputs": [],
   "source": [
    "n_c = f_c.total()/ 1_000_000\n",
    "n_r = f_r.total()/ 1_000_000"
   ]
  },
  {
   "cell_type": "code",
   "execution_count": 17,
   "id": "33e39a7f-7a05-487a-87d9-3b432923ef41",
   "metadata": {},
   "outputs": [
    {
     "data": {
      "text/plain": [
       "[('the', 73031.39171918252),\n",
       " ('of', 44319.45344248778),\n",
       " ('and', 28329.112433005477),\n",
       " ('to', 26621.120207314918),\n",
       " ('in', 22792.861770422285),\n",
       " ('a', 20437.010424642205),\n",
       " ('is', 15813.652158548795),\n",
       " ('that', 14488.485776547499),\n",
       " ('it', 9924.023794098592),\n",
       " ('for', 9276.16467400907)]"
      ]
     },
     "execution_count": 17,
     "metadata": {},
     "output_type": "execute_result"
    }
   ],
   "source": [
    "[(w, f/n_c) for (w,f) in f_c.most_common(10)]"
   ]
  },
  {
   "cell_type": "code",
   "execution_count": 31,
   "id": "9a03907e-3bc6-49fe-962f-d043e1cafbc4",
   "metadata": {},
   "outputs": [],
   "source": [
    "k = 1\n",
    "keywords = [ ((f_c[w]/n_c + k) / (f_r[w]/n_r + k), w) for w in f_c ]"
   ]
  },
  {
   "cell_type": "code",
   "execution_count": 34,
   "id": "c70e91f6-fe90-43b6-88cb-4e1ba180a036",
   "metadata": {},
   "outputs": [
    {
     "data": {
      "text/plain": [
       "[(0.057055439884056654, 'af'),\n",
       " (0.05987675949967377, 'got'),\n",
       " (0.07402750786479025, 'her'),\n",
       " (0.08898406065774739, 'off'),\n",
       " (0.09952644640615906, 'company'),\n",
       " (0.11318973825678033, 'office'),\n",
       " (0.11685657821268, 'heard'),\n",
       " (0.11733170585426918, 'federal'),\n",
       " (0.11789064963474691, 'she'),\n",
       " (0.11829364710608645, 'street')]"
      ]
     },
     "execution_count": 34,
     "metadata": {},
     "output_type": "execute_result"
    }
   ],
   "source": [
    "sorted(keywords)[: 10]"
   ]
  },
  {
   "cell_type": "code",
   "execution_count": 35,
   "id": "e222820f-c0b7-4f0d-82e9-7562b1a28500",
   "metadata": {},
   "outputs": [
    {
     "data": {
      "text/plain": [
       "[(236.5851345780081, 'guideposts'),\n",
       " (236.5851345780081, 'yin'),\n",
       " (258.41124716166667, 'realtors'),\n",
       " (266.0332764002591, 'han'),\n",
       " (266.0332764002591, 'saviour'),\n",
       " (301.3986901558779, 'lo'),\n",
       " (324.92956004476116, 'mahayana'),\n",
       " (354.37770186701215, 'yang'),\n",
       " (413.2739855115142, 'irenaeus'),\n",
       " (619.4109782672713, 'shu')]"
      ]
     },
     "execution_count": 35,
     "metadata": {},
     "output_type": "execute_result"
    }
   ],
   "source": [
    "sorted(keywords)[-10:]"
   ]
  },
  {
   "cell_type": "code",
   "execution_count": 36,
   "id": "376d8208-8625-4e9f-a761-c340bb82efed",
   "metadata": {},
   "outputs": [
    {
     "data": {
      "text/plain": [
       "[(619.4109782672713, 'shu'),\n",
       " (413.2739855115142, 'irenaeus'),\n",
       " (354.37770186701215, 'yang'),\n",
       " (324.92956004476116, 'mahayana'),\n",
       " (301.3986901558779, 'lo'),\n",
       " (266.0332764002591, 'saviour'),\n",
       " (266.0332764002591, 'han'),\n",
       " (258.41124716166667, 'realtors'),\n",
       " (236.5851345780081, 'yin'),\n",
       " (236.5851345780081, 'guideposts')]"
      ]
     },
     "execution_count": 36,
     "metadata": {},
     "output_type": "execute_result"
    }
   ],
   "source": [
    "sorted(keywords, reverse = True)[:10]"
   ]
  },
  {
   "cell_type": "code",
   "execution_count": 37,
   "id": "3e337795-0535-4491-b12d-4e144b20c52e",
   "metadata": {},
   "outputs": [],
   "source": [
    "k = 100\n",
    "keywords = [ ((f_c[w]/n_c + k) / (f_r[w]/n_r + k), w) for w in f_c ]"
   ]
  },
  {
   "cell_type": "code",
   "execution_count": 42,
   "id": "9529fffc-9218-4dad-8cb6-3761903f8285",
   "metadata": {},
   "outputs": [
    {
     "data": {
      "text/plain": [
       "[(0.1018496095612704, 'her'),\n",
       " (0.13831610143644443, 'af'),\n",
       " (0.1460159975374528, 'she'),\n",
       " (0.20579421182600732, 'off'),\n",
       " (0.21307861844345138, 'got'),\n",
       " (0.3027603032972011, 'house'),\n",
       " (0.31968016742372235, 'company'),\n",
       " (0.35117922171802907, 'high'),\n",
       " (0.3517603916245708, 'office'),\n",
       " (0.3578989666096433, 'want')]"
      ]
     },
     "execution_count": 42,
     "metadata": {},
     "output_type": "execute_result"
    }
   ],
   "source": [
    "sorted(keywords)[: 10]"
   ]
  },
  {
   "cell_type": "code",
   "execution_count": 43,
   "id": "df8cbf68-8b07-4bd6-b398-b8ad634fb89f",
   "metadata": {},
   "outputs": [
    {
     "data": {
      "text/plain": [
       "[(7.534575794163571, 'zen'),\n",
       " (7.793799706671908, 'church'),\n",
       " (7.8943455668504585, 'christian'),\n",
       " (7.91391066683639, 'sin'),\n",
       " (7.955073271815822, 'faith'),\n",
       " (7.996521228865675, 'spirit'),\n",
       " (8.140972014659157, 'jesus'),\n",
       " (8.621129780092343, 'membership'),\n",
       " (13.115709397595085, 'christ'),\n",
       " (14.158803765162455, 'god')]"
      ]
     },
     "execution_count": 43,
     "metadata": {},
     "output_type": "execute_result"
    }
   ],
   "source": [
    "sorted(keywords)[-10:]"
   ]
  },
  {
   "cell_type": "code",
   "execution_count": 44,
   "id": "0dc221f1-2f48-4d92-9474-eb849b915bd4",
   "metadata": {},
   "outputs": [
    {
     "data": {
      "text/plain": [
       "[(14.158803765162455, 'god'),\n",
       " (13.115709397595085, 'christ'),\n",
       " (8.621129780092343, 'membership'),\n",
       " (8.140972014659157, 'jesus'),\n",
       " (7.996521228865675, 'spirit'),\n",
       " (7.955073271815822, 'faith'),\n",
       " (7.91391066683639, 'sin'),\n",
       " (7.8943455668504585, 'christian'),\n",
       " (7.793799706671908, 'church'),\n",
       " (7.534575794163571, 'zen')]"
      ]
     },
     "execution_count": 44,
     "metadata": {},
     "output_type": "execute_result"
    }
   ],
   "source": [
    "sorted(keywords, reverse=True)[: 10]"
   ]
  },
  {
   "cell_type": "markdown",
   "id": "9344feb0-5f8d-437f-a71b-84326d002073",
   "metadata": {},
   "source": [
    "I think the target corpus is more related to Christianity section of the Brown Corpus"
   ]
  },
  {
   "cell_type": "code",
   "execution_count": null,
   "id": "c8179a80-7cd0-42eb-bfd9-eca04d90535c",
   "metadata": {},
   "outputs": [],
   "source": []
  }
 ],
 "metadata": {
  "kernelspec": {
   "display_name": "Python 3 (ipykernel)",
   "language": "python",
   "name": "python3"
  },
  "language_info": {
   "codemirror_mode": {
    "name": "ipython",
    "version": 3
   },
   "file_extension": ".py",
   "mimetype": "text/x-python",
   "name": "python",
   "nbconvert_exporter": "python",
   "pygments_lexer": "ipython3",
   "version": "3.11.9"
  }
 },
 "nbformat": 4,
 "nbformat_minor": 5
}
