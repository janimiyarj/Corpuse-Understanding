{
  "nbformat": 4,
  "nbformat_minor": 0,
  "metadata": {
    "colab": {
      "provenance": [],
      "include_colab_link": true
    },
    "kernelspec": {
      "name": "python3",
      "display_name": "Python 3"
    },
    "language_info": {
      "name": "python"
    }
  },
  "cells": [
    {
      "cell_type": "markdown",
      "metadata": {
        "id": "view-in-github",
        "colab_type": "text"
      },
      "source": [
        "<a href=\"https://colab.research.google.com/github/janimiyarj/Corpuse-Understanding/blob/main/LING571_Class_Assignment_4.ipynb\" target=\"_parent\"><img src=\"https://colab.research.google.com/assets/colab-badge.svg\" alt=\"Open In Colab\"/></a>"
      ]
    },
    {
      "cell_type": "code",
      "execution_count": null,
      "metadata": {
        "id": "UV7TDBV4cjjm"
      },
      "outputs": [],
      "source": [
        "import polars as pl"
      ]
    },
    {
      "cell_type": "code",
      "source": [
        "!wget -nc https://ling583.s3.amazonaws.com/brown.parquet"
      ],
      "metadata": {
        "colab": {
          "base_uri": "https://localhost:8080/"
        },
        "id": "IIvDPNNMdL5E",
        "outputId": "6116b3c3-1bb0-4714-f4af-3686d48cbdfd"
      },
      "execution_count": null,
      "outputs": [
        {
          "output_type": "stream",
          "name": "stdout",
          "text": [
            "File ‘brown.parquet’ already there; not retrieving.\n",
            "\n"
          ]
        }
      ]
    },
    {
      "cell_type": "code",
      "source": [
        "!pip install polars --user"
      ],
      "metadata": {
        "colab": {
          "base_uri": "https://localhost:8080/"
        },
        "id": "0eU9aXljc-rV",
        "outputId": "c33fd26c-5944-4f00-912d-15abdd1c019f"
      },
      "execution_count": null,
      "outputs": [
        {
          "output_type": "stream",
          "name": "stdout",
          "text": [
            "Requirement already satisfied: polars in /usr/local/lib/python3.10/dist-packages (1.7.1)\n"
          ]
        }
      ]
    },
    {
      "cell_type": "code",
      "source": [
        "c = pl.read_parquet('brown.parquet')"
      ],
      "metadata": {
        "id": "R-bVaQx7dg2G"
      },
      "execution_count": null,
      "outputs": []
    },
    {
      "cell_type": "code",
      "source": [
        "c.head()"
      ],
      "metadata": {
        "colab": {
          "base_uri": "https://localhost:8080/",
          "height": 255
        },
        "id": "Y_HbdDjCeIn5",
        "outputId": "f033c77b-a0ea-4f41-a488-331a45f2dad8"
      },
      "execution_count": null,
      "outputs": [
        {
          "output_type": "execute_result",
          "data": {
            "text/plain": [
              "shape: (5, 6)\n",
              "┌─────────┬─────┬──────┬────────┬───────────┬───────────┐\n",
              "│ tok     ┆ tag ┆ pos  ┆ fileid ┆ sentid    ┆ cat       │\n",
              "│ ---     ┆ --- ┆ ---  ┆ ---    ┆ ---       ┆ ---       │\n",
              "│ str     ┆ str ┆ str  ┆ str    ┆ str       ┆ cat       │\n",
              "╞═════════╪═════╪══════╪════════╪═══════════╪═══════════╡\n",
              "│ Dan     ┆ NP  ┆ NOUN ┆ cn01   ┆ cn01_0000 ┆ adventure │\n",
              "│ Morgan  ┆ NP  ┆ NOUN ┆ cn01   ┆ cn01_0000 ┆ adventure │\n",
              "│ told    ┆ VBD ┆ VERB ┆ cn01   ┆ cn01_0000 ┆ adventure │\n",
              "│ himself ┆ PPL ┆ PRON ┆ cn01   ┆ cn01_0000 ┆ adventure │\n",
              "│ he      ┆ PPS ┆ PRON ┆ cn01   ┆ cn01_0000 ┆ adventure │\n",
              "└─────────┴─────┴──────┴────────┴───────────┴───────────┘"
            ],
            "text/html": [
              "<div><style>\n",
              ".dataframe > thead > tr,\n",
              ".dataframe > tbody > tr {\n",
              "  text-align: right;\n",
              "  white-space: pre-wrap;\n",
              "}\n",
              "</style>\n",
              "<small>shape: (5, 6)</small><table border=\"1\" class=\"dataframe\"><thead><tr><th>tok</th><th>tag</th><th>pos</th><th>fileid</th><th>sentid</th><th>cat</th></tr><tr><td>str</td><td>str</td><td>str</td><td>str</td><td>str</td><td>cat</td></tr></thead><tbody><tr><td>&quot;Dan&quot;</td><td>&quot;NP&quot;</td><td>&quot;NOUN&quot;</td><td>&quot;cn01&quot;</td><td>&quot;cn01_0000&quot;</td><td>&quot;adventure&quot;</td></tr><tr><td>&quot;Morgan&quot;</td><td>&quot;NP&quot;</td><td>&quot;NOUN&quot;</td><td>&quot;cn01&quot;</td><td>&quot;cn01_0000&quot;</td><td>&quot;adventure&quot;</td></tr><tr><td>&quot;told&quot;</td><td>&quot;VBD&quot;</td><td>&quot;VERB&quot;</td><td>&quot;cn01&quot;</td><td>&quot;cn01_0000&quot;</td><td>&quot;adventure&quot;</td></tr><tr><td>&quot;himself&quot;</td><td>&quot;PPL&quot;</td><td>&quot;PRON&quot;</td><td>&quot;cn01&quot;</td><td>&quot;cn01_0000&quot;</td><td>&quot;adventure&quot;</td></tr><tr><td>&quot;he&quot;</td><td>&quot;PPS&quot;</td><td>&quot;PRON&quot;</td><td>&quot;cn01&quot;</td><td>&quot;cn01_0000&quot;</td><td>&quot;adventure&quot;</td></tr></tbody></table></div>"
            ]
          },
          "metadata": {},
          "execution_count": 5
        }
      ]
    },
    {
      "cell_type": "code",
      "source": [
        "c.group_by(\"cat\").agg()"
      ],
      "metadata": {
        "colab": {
          "base_uri": "https://localhost:8080/",
          "height": 443
        },
        "id": "sVzBTlxQefso",
        "outputId": "2e53cdb5-ca4c-4780-8ea6-8e45100c925e"
      },
      "execution_count": null,
      "outputs": [
        {
          "output_type": "execute_result",
          "data": {
            "text/plain": [
              "shape: (15, 1)\n",
              "┌─────────────────┐\n",
              "│ cat             │\n",
              "│ ---             │\n",
              "│ cat             │\n",
              "╞═════════════════╡\n",
              "│ lore            │\n",
              "│ humor           │\n",
              "│ hobbies         │\n",
              "│ government      │\n",
              "│ learned         │\n",
              "│ …               │\n",
              "│ adventure       │\n",
              "│ reviews         │\n",
              "│ religion        │\n",
              "│ editorial       │\n",
              "│ science_fiction │\n",
              "└─────────────────┘"
            ],
            "text/html": [
              "<div><style>\n",
              ".dataframe > thead > tr,\n",
              ".dataframe > tbody > tr {\n",
              "  text-align: right;\n",
              "  white-space: pre-wrap;\n",
              "}\n",
              "</style>\n",
              "<small>shape: (15, 1)</small><table border=\"1\" class=\"dataframe\"><thead><tr><th>cat</th></tr><tr><td>cat</td></tr></thead><tbody><tr><td>&quot;lore&quot;</td></tr><tr><td>&quot;humor&quot;</td></tr><tr><td>&quot;hobbies&quot;</td></tr><tr><td>&quot;government&quot;</td></tr><tr><td>&quot;learned&quot;</td></tr><tr><td>&hellip;</td></tr><tr><td>&quot;adventure&quot;</td></tr><tr><td>&quot;reviews&quot;</td></tr><tr><td>&quot;religion&quot;</td></tr><tr><td>&quot;editorial&quot;</td></tr><tr><td>&quot;science_fiction&quot;</td></tr></tbody></table></div>"
            ]
          },
          "metadata": {},
          "execution_count": 8
        }
      ]
    },
    {
      "cell_type": "code",
      "source": [
        "# Grouping by 'cat' and count distinct 'fileid'\n",
        "category_counts = c.group_by(\"cat\").agg(pl.col(\"fileid\").n_unique()) \\\n",
        "  .filter(pl.col(\"cat\").is_in([\"adventure\", \"government\", \"romance\"]))\n"
      ],
      "metadata": {
        "id": "LUGuWsAQdkEr"
      },
      "execution_count": null,
      "outputs": []
    },
    {
      "cell_type": "code",
      "source": [
        "# Displaying the results\n",
        "print(category_counts)"
      ],
      "metadata": {
        "colab": {
          "base_uri": "https://localhost:8080/"
        },
        "id": "iVXAyacwd_JP",
        "outputId": "dc20eeec-6743-47b3-d715-f15116244f00"
      },
      "execution_count": null,
      "outputs": [
        {
          "output_type": "stream",
          "name": "stdout",
          "text": [
            "shape: (3, 2)\n",
            "┌────────────┬────────┐\n",
            "│ cat        ┆ fileid │\n",
            "│ ---        ┆ ---    │\n",
            "│ cat        ┆ u32    │\n",
            "╞════════════╪════════╡\n",
            "│ adventure  ┆ 29     │\n",
            "│ government ┆ 30     │\n",
            "│ romance    ┆ 29     │\n",
            "└────────────┴────────┘\n"
          ]
        }
      ]
    },
    {
      "cell_type": "code",
      "source": [],
      "metadata": {
        "id": "Y04oo3kCd_Rt"
      },
      "execution_count": null,
      "outputs": []
    }
  ]
}